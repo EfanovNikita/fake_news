{
 "cells": [
  {
   "cell_type": "code",
   "execution_count": 10,
   "id": "378b09c3-c02d-457a-9290-7b54c3a42bd9",
   "metadata": {},
   "outputs": [],
   "source": [
    "import pandas as pd\n",
    "import numpy as np\n",
    "import matplotlib.pyplot as plt\n",
    "from sklearn.feature_extraction.text import TfidfVectorizer\n",
    "from sklearn.model_selection import train_test_split\n",
    "from sklearn.linear_model import PassiveAggressiveClassifier\n",
    "from sklearn.metrics import classification_report, ConfusionMatrixDisplay, roc_auc_score"
   ]
  },
  {
   "cell_type": "code",
   "execution_count": 11,
   "id": "9b3ec4d9-d0b1-4753-843e-4582cbc68c1b",
   "metadata": {},
   "outputs": [],
   "source": [
    "df = pd.read_csv('./fake_news.csv')"
   ]
  },
  {
   "cell_type": "code",
   "execution_count": 19,
   "id": "e922e8b3-e252-4864-8801-a1fb49025006",
   "metadata": {},
   "outputs": [],
   "source": [
    "X_train, X_test, y_train, y_test = train_test_split(df['text'], df['label'], test_size = 0.2, random_state = 42, stratify=df['label'])\n",
    "X_val, X_test, y_val, y_test = train_test_split(X_test, y_test, test_size = 0.5, random_state = 42, stratify=y_test)"
   ]
  },
  {
   "cell_type": "code",
   "execution_count": 20,
   "id": "6a1e3599-b0d0-4a8e-b054-05471803a0ab",
   "metadata": {},
   "outputs": [],
   "source": [
    "vectorizer = TfidfVectorizer()\n",
    "X_train = vectorizer.fit_transform(X_train)\n",
    "X_test = vectorizer.transform(X_test)\n",
    "X_val = vectorizer.transform(X_val)"
   ]
  },
  {
   "cell_type": "markdown",
   "id": "916cd023",
   "metadata": {},
   "source": [
    "## Результаты на валидационных данных"
   ]
  },
  {
   "cell_type": "code",
   "execution_count": 21,
   "id": "10a5d2a2-f732-4cc1-a6e7-565ed4c2cf5d",
   "metadata": {},
   "outputs": [
    {
     "name": "stdout",
     "output_type": "stream",
     "text": [
      "              precision    recall  f1-score   support\n",
      "\n",
      "        FAKE       0.95      0.96      0.96       316\n",
      "        REAL       0.96      0.95      0.96       317\n",
      "\n",
      "    accuracy                           0.96       633\n",
      "   macro avg       0.96      0.96      0.96       633\n",
      "weighted avg       0.96      0.96      0.96       633\n",
      "\n"
     ]
    }
   ],
   "source": [
    "model = PassiveAggressiveClassifier(C = 0.5, random_state=42)\n",
    "\n",
    "model.fit(X_train, y_train)\n",
    "\n",
    "test_pred = model.predict(X_val)\n",
    "report = classification_report(y_val, test_pred)\n",
    "print(report)"
   ]
  },
  {
   "cell_type": "code",
   "execution_count": 22,
   "id": "2c4415bb-4f69-455f-bfe6-987a4e239f0b",
   "metadata": {},
   "outputs": [
    {
     "name": "stdout",
     "output_type": "stream",
     "text": [
      "ROC AUC метрика\n"
     ]
    },
    {
     "data": {
      "text/plain": [
       "0.9931417961106896"
      ]
     },
     "execution_count": 22,
     "metadata": {},
     "output_type": "execute_result"
    }
   ],
   "source": [
    "y_score = model.decision_function(X_val)\n",
    "\n",
    "print('ROC AUC метрика')\n",
    "roc_auc_score(y_val, y_score)"
   ]
  },
  {
   "cell_type": "markdown",
   "id": "6c9fa122",
   "metadata": {},
   "source": [
    "## Результаты на тестовых данных"
   ]
  },
  {
   "cell_type": "code",
   "execution_count": 23,
   "id": "65f4e2f2",
   "metadata": {},
   "outputs": [
    {
     "name": "stdout",
     "output_type": "stream",
     "text": [
      "              precision    recall  f1-score   support\n",
      "\n",
      "        FAKE       0.94      0.94      0.94       317\n",
      "        REAL       0.94      0.94      0.94       317\n",
      "\n",
      "    accuracy                           0.94       634\n",
      "   macro avg       0.94      0.94      0.94       634\n",
      "weighted avg       0.94      0.94      0.94       634\n",
      "\n"
     ]
    }
   ],
   "source": [
    "test_pred = model.predict(X_test)\n",
    "report = classification_report(y_test, test_pred)\n",
    "print(report)"
   ]
  },
  {
   "cell_type": "code",
   "execution_count": 24,
   "id": "8b8bbbae",
   "metadata": {},
   "outputs": [
    {
     "name": "stdout",
     "output_type": "stream",
     "text": [
      "ROC AUC метрика\n"
     ]
    },
    {
     "data": {
      "text/plain": [
       "0.9835703410323519"
      ]
     },
     "execution_count": 24,
     "metadata": {},
     "output_type": "execute_result"
    }
   ],
   "source": [
    "y_score = model.decision_function(X_test)\n",
    "\n",
    "print('ROC AUC метрика')\n",
    "roc_auc_score(y_test, y_score)"
   ]
  },
  {
   "cell_type": "code",
   "execution_count": 25,
   "id": "9a483c11-0ca7-475b-8114-a32dcd358b2e",
   "metadata": {},
   "outputs": [
    {
     "data": {
      "text/plain": [
       "Text(0.5, 1.0, 'Матрица ошибок')"
      ]
     },
     "execution_count": 25,
     "metadata": {},
     "output_type": "execute_result"
    },
    {
     "data": {
      "image/png": "[encoded data removed]",
      "text/plain": [
       "<Figure size 640x480 with 2 Axes>"
      ]
     },
     "metadata": {},
     "output_type": "display_data"
    }
   ],
   "source": [
    "fig, ax = plt.subplots()\n",
    "ConfusionMatrixDisplay.from_predictions(y_test, test_pred, ax=ax)\n",
    "ax.set_title(\"Матрица ошибок\")"
   ]
  },
  {
   "cell_type": "code",
   "execution_count": null,
   "id": "3c562a36-efe7-4126-9fa5-393a410a315b",
   "metadata": {},
   "outputs": [],
   "source": []
  }
 ],
 "metadata": {
  "kernelspec": {
   "display_name": "gpu",
   "language": "python",
   "name": "gpu"
  },
  "language_info": {
   "codemirror_mode": {
    "name": "ipython",
    "version": 3
   },
   "file_extension": ".py",
   "mimetype": "text/x-python",
   "name": "python",
   "nbconvert_exporter": "python",
   "pygments_lexer": "ipython3",
   "version": "3.10.13"
  }
 },
 "nbformat": 4,
 "nbformat_minor": 5
}
